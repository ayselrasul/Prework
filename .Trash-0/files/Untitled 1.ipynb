{
 "cells": [
  {
   "cell_type": "code",
   "execution_count": 6,
   "id": "e33696dd",
   "metadata": {},
   "outputs": [
    {
     "data": {
      "image/png": "[encoded data removed]",
      "text/plain": [
       "<Figure size 432x288 with 1 Axes>"
      ]
     },
     "metadata": {
      "needs_background": "light"
     },
     "output_type": "display_data"
    }
   ],
   "source": [
    "import matplotlib.pyplot as plt\n",
    "fig, ax = plt.subplots()\n",
    "\n",
    "data = {\n",
    "    \"France\": 65.4,\n",
    "    \"Germany\": 82.4,\n",
    "    \"Italy\": 59.2,\n",
    "    \"UK\": 66.9\n",
    "}\n",
    "\n",
    "# Use keys and values as x and y axis values:\n",
    "x_axis_data = data.keys()\n",
    "y_axis_data = data.values()\n",
    "\n",
    "# Plotting a bar graph:\n",
    "ax.bar(x_axis_data, y_axis_data)\n",
    "# Setting properties of axes:\n",
    "ax.set(ylim=[0, 100],\n",
    "  ylabel='Population (in million)',\n",
    "  xlabel='Country',\n",
    "  title='European Countries by Population')\n",
    "\n",
    "# Displaying the graph:\n",
    "plt.show()"
   ]
  },
  {
   "cell_type": "code",
   "execution_count": 8,
   "id": "65e2cea8",
   "metadata": {},
   "outputs": [
    {
     "ename": "SyntaxError",
     "evalue": "invalid syntax (<ipython-input-8-2faf01427bed>, line 3)",
     "output_type": "error",
     "traceback": [
      "\u001b[0;36m  File \u001b[0;32m\"<ipython-input-8-2faf01427bed>\"\u001b[0;36m, line \u001b[0;32m3\u001b[0m\n\u001b[0;31m    plt.bar(x, height, width=0.8, bottom=None, *, align='center')\u001b[0m\n\u001b[0m                                                ^\u001b[0m\n\u001b[0;31mSyntaxError\u001b[0m\u001b[0;31m:\u001b[0m invalid syntax\n"
     ]
    }
   ],
   "source": [
    "import matplotlib.pyplot as plt\n",
    "\n",
    "plt.bar(x, height, width=0.8, bottom=None, *, align='center')\n"
   ]
  },
  {
   "cell_type": "code",
   "execution_count": null,
   "id": "c2a892e8",
   "metadata": {},
   "outputs": [],
   "source": []
  }
 ],
 "metadata": {
  "kernelspec": {
   "display_name": "Python 3",
   "language": "python",
   "name": "python3"
  },
  "language_info": {
   "codemirror_mode": {
    "name": "ipython",
    "version": 3
   },
   "file_extension": ".py",
   "mimetype": "text/x-python",
   "name": "python",
   "nbconvert_exporter": "python",
   "pygments_lexer": "ipython3",
   "version": "3.8.8"
  }
 },
 "nbformat": 4,
 "nbformat_minor": 5
}
