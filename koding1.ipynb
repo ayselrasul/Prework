{
 "cells": [
  {
   "cell_type": "code",
   "execution_count": null,
   "id": "76f40d4a",
   "metadata": {},
   "outputs": [],
   "source": [
    "##while loop\n",
    "#as long as a condition is fulfilled the task will be executed\n",
    "\n",
    "Structure\n",
    "- initialization i=1,2,  ,k\n",
    "-condition while \"statement\"\n"
   ]
  },
  {
   "cell_type": "code",
   "execution_count": 7,
   "id": "62a6e4d6",
   "metadata": {},
   "outputs": [
    {
     "name": "stdout",
     "output_type": "stream",
     "text": [
      "learning lopps\n",
      "learning nested loops\n",
      "learning nested loops\n",
      "learning nested loops\n",
      "learning nested loops\n",
      "learning nested loops\n",
      "learning lopps\n",
      "learning nested loops\n",
      "learning nested loops\n",
      "learning nested loops\n",
      "learning nested loops\n",
      "learning nested loops\n",
      "learning lopps\n",
      "learning nested loops\n",
      "learning nested loops\n",
      "learning nested loops\n",
      "learning nested loops\n",
      "learning nested loops\n",
      "learning lopps\n",
      "learning nested loops\n",
      "learning nested loops\n",
      "learning nested loops\n",
      "learning nested loops\n",
      "learning nested loops\n",
      "learning lopps\n",
      "learning nested loops\n",
      "learning nested loops\n",
      "learning nested loops\n",
      "learning nested loops\n",
      "learning nested loops\n"
     ]
    }
   ],
   "source": [
    "i=1\n",
    "while i<=5:\n",
    "    print('learning lopps')\n",
    "    j=1\n",
    "    while j<=5:\n",
    "        print('learning nested loops')\n",
    "        j=j+1\n",
    "    i=i+1   "
   ]
  },
  {
   "cell_type": "code",
   "execution_count": null,
   "id": "5681d415",
   "metadata": {},
   "outputs": [],
   "source": [
    "i=1\n",
    "j=1\n",
    "while i<=5:\n",
    "    print('learning lopps')\n",
    "    j=1\n",
    "    while j<=5:\n",
    "        print('learning nested loops')\n",
    "        j=j+1\n",
    "    i=i+1   "
   ]
  },
  {
   "cell_type": "code",
   "execution_count": 9,
   "id": "543ea012",
   "metadata": {},
   "outputs": [
    {
     "data": {
      "text/plain": [
       "[1, 2, 3, 4]"
      ]
     },
     "execution_count": 9,
     "metadata": {},
     "output_type": "execute_result"
    }
   ],
   "source": [
    "x=[1,2,3,4]\n",
    "x"
   ]
  },
  {
   "cell_type": "code",
   "execution_count": null,
   "id": "d556fefe",
   "metadata": {},
   "outputs": [],
   "source": []
  }
 ],
 "metadata": {
  "kernelspec": {
   "display_name": "Python 3",
   "language": "python",
   "name": "python3"
  },
  "language_info": {
   "codemirror_mode": {
    "name": "ipython",
    "version": 3
   },
   "file_extension": ".py",
   "mimetype": "text/x-python",
   "name": "python",
   "nbconvert_exporter": "python",
   "pygments_lexer": "ipython3",
   "version": "3.8.8"
  }
 },
 "nbformat": 4,
 "nbformat_minor": 5
}
