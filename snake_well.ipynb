{
 "cells": [
  {
   "cell_type": "code",
   "execution_count": 23,
   "metadata": {},
   "outputs": [
    {
     "name": "stdout",
     "output_type": "stream",
     "text": [
      "57\n",
      "5\n",
      "1\n",
      "21.0\n"
     ]
    }
   ],
   "source": [
    "daily_climb = [30, 21, 33, 77, 44, 45, 23, 45, 12, 34, 55]\n",
    "nightly_fall = 20\n",
    "\n",
    "def escape():\n",
    "    # Assign problem data to variables with representative names\n",
    "    # well height, daily advance, night retreat, accumulated distance\n",
    "    well_height = 125\n",
    "    total_distance = 0\n",
    "    \n",
    "    # Assign 0 to the variable that represents the solution\n",
    "    total_days = 0\n",
    "    # YOUR SOLUTION HERE\n",
    "    \n",
    "    for item in daily_climb:\n",
    "      total_days=total_days+1\n",
    "      total_distance=total_distance+item\n",
    "      \n",
    "      if total_distance>=well_height:\n",
    "        return total_days\n",
    "      else:\n",
    "          total_distance = total_distance-nightly_fall\n",
    "      \n",
    "\n",
    "\n",
    "# What is its maximum displacement in one day? \n",
    "def max_displacement():\n",
    "    escape_day_count = escape()\n",
    "    max_displ = 0\n",
    "    for day in range(0,escape_day_count):\n",
    "      max_displ = max(max_displ,daily_climb[day])\n",
    "    return max_displ - nightly_fall\n",
    "\n",
    "# And its minimum displacement in one day?\n",
    "def min_displacement():\n",
    "  escape_day_count = escape()\n",
    "  min_displ = 100000000\n",
    "  for day in range(0,escape_day_count):\n",
    "    min_displ=min(min_displ,daily_climb[day])\n",
    "\n",
    "  return min_displ - nightly_fall \n",
    "  \n",
    "  print(max_displacement())\n",
    " \n",
    "\n",
    "# What is its average speed during the day? Round off your solution to one decimal place. \n",
    "\n",
    "def avg_speed():\n",
    "\n",
    "  import numpy as np\n",
    "  escape_day_count = escape()\n",
    "  my_list=[]\n",
    "  for day in range(0,escape_day_count):\n",
    "    my_list.append(daily_climb[day] - nightly_fall)\n",
    "  \n",
    "  avg_speed= np.mean(my_list)\n",
    "  return np.round(avg_speed,1)\n",
    "\n",
    "print(max_displacement())\n",
    "\n",
    "print(escape())\n",
    "\n",
    "\n",
    "print(min_displacement())\n",
    "\n",
    "print(avg_speed())\n",
    "\n",
    "# What is the standard deviation of its displacement during the day? Round off your solution to two decimal places. \n",
    "\n"
   ]
  }
 ],
 "metadata": {
  "interpreter": {
   "hash": "31f2aee4e71d21fbe5cf8b01ff0e069b9275f58929596ceb00d14d90e3e16cd6"
  },
  "kernelspec": {
   "display_name": "Python 3.8.2 64-bit",
   "name": "python3"
  },
  "language_info": {
   "codemirror_mode": {
    "name": "ipython",
    "version": 3
   },
   "file_extension": ".py",
   "mimetype": "text/x-python",
   "name": "python",
   "nbconvert_exporter": "python",
   "pygments_lexer": "ipython3",
   "version": "3.8.2"
  },
  "orig_nbformat": 4
 },
 "nbformat": 4,
 "nbformat_minor": 2
}
