{
 "cells": [
  {
   "cell_type": "code",
   "execution_count": 4,
   "id": "2d55efb6",
   "metadata": {},
   "outputs": [
    {
     "name": "stdout",
     "output_type": "stream",
     "text": [
      "learning loops\n",
      "learning nested loops\n",
      "learning nested loops\n",
      "learning nested loops\n",
      "learning nested loops\n",
      "learning nested loops\n"
     ]
    }
   ],
   "source": [
    "j=1\n",
    "i = 1\n",
    "while i<=5:\n",
    "    print(\"learning loops\")\n",
    "    while j<=5:\n",
    "        print(\"learning nested loops\")\n",
    "        j=j+1\n",
    "        i = i+1"
   ]
  }
 ],
 "metadata": {
  "kernelspec": {
   "display_name": "Python 3",
   "language": "python",
   "name": "python3"
  },
  "language_info": {
   "codemirror_mode": {
    "name": "ipython",
    "version": 3
   },
   "file_extension": ".py",
   "mimetype": "text/x-python",
   "name": "python",
   "nbconvert_exporter": "python",
   "pygments_lexer": "ipython3",
   "version": "3.8.8"
  }
 },
 "nbformat": 4,
 "nbformat_minor": 5
}
